{
  "nbformat": 4,
  "nbformat_minor": 0,
  "metadata": {
    "colab": {
      "name": "boxplot&classwork.ipynb",
      "provenance": [],
      "authorship_tag": "ABX9TyPEhBOBnvo4VvvlDI3NFcht",
      "include_colab_link": true
    },
    "kernelspec": {
      "name": "python3",
      "display_name": "Python 3"
    },
    "language_info": {
      "name": "python"
    }
  },
  "cells": [
    {
      "cell_type": "markdown",
      "metadata": {
        "id": "view-in-github",
        "colab_type": "text"
      },
      "source": [
        "<a href=\"https://colab.research.google.com/github/anu-mohan/Ds_pythoncode/blob/main/boxplot%26classwork.ipynb\" target=\"_parent\"><img src=\"https://colab.research.google.com/assets/colab-badge.svg\" alt=\"Open In Colab\"/></a>"
      ]
    },
    {
      "cell_type": "code",
      "metadata": {
        "id": "nANlWvcw5RTL"
      },
      "source": [
        "#Box plot\n",
        "data_box=data_cleaned3.dropna()\n",
        "data1_box=data_box.Ozone\n",
        "plt.boxplot(data1_box)\n"
      ],
      "execution_count": null,
      "outputs": []
    },
    {
      "cell_type": "code",
      "metadata": {
        "id": "qGpGvEHk5W5L"
      },
      "source": [
        "#Extracting outliers\n",
        "box=plt.boxplot(data1_box)\n"
      ],
      "execution_count": null,
      "outputs": []
    },
    {
      "cell_type": "code",
      "metadata": {
        "id": "LPdtGj965cvL"
      },
      "source": [
        "[item.get_ydata() for item in box['fliers']]\n"
      ],
      "execution_count": null,
      "outputs": []
    },
    {
      "cell_type": "code",
      "metadata": {
        "id": "bIsdCFlu5fj7"
      },
      "source": [
        "#To get the whiskers\n",
        "[item.get_ydata()[1] for item in box['whiskers']]\n"
      ],
      "execution_count": null,
      "outputs": []
    },
    {
      "cell_type": "markdown",
      "metadata": {
        "id": "02OO8Cfa6g3F"
      },
      "source": [
        "Clustering lecture notes if error occurs"
      ]
    },
    {
      "cell_type": "code",
      "metadata": {
        "id": "L0p8wcY95oO6"
      },
      "source": [
        "Univ['h_clusterid'] = Clusters\n"
      ],
      "execution_count": null,
      "outputs": []
    },
    {
      "cell_type": "code",
      "metadata": {
        "id": "-EZNhlH85ufo"
      },
      "source": [
        "NameError: name 'h_clusters' is not defined\n",
        "df_norm['h_clusterid'] = h_clusters.labels_\n",
        "ok\n",
        "From Srinivas to Everyone:  12:35 PM\n",
        "Clusters\n",
        "From Rahul Bagul to Everyone:  12:35 PM\n",
        "ok sir\n",
        "From Srinivas to Everyone:  12:35 PM\n",
        "Univ['h_clusterid'] = Clusters\n"
      ],
      "execution_count": null,
      "outputs": []
    }
  ]
}