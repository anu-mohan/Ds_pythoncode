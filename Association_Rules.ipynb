{
  "nbformat": 4,
  "nbformat_minor": 0,
  "metadata": {
    "kernelspec": {
      "display_name": "Python 3",
      "language": "python",
      "name": "python3"
    },
    "language_info": {
      "codemirror_mode": {
        "name": "ipython",
        "version": 3
      },
      "file_extension": ".py",
      "mimetype": "text/x-python",
      "name": "python",
      "nbconvert_exporter": "python",
      "pygments_lexer": "ipython3",
      "version": "3.7.4"
    },
    "colab": {
      "name": "Association Rules.ipynb",
      "provenance": [],
      "toc_visible": true,
      "include_colab_link": true
    }
  },
  "cells": [
    {
      "cell_type": "markdown",
      "metadata": {
        "id": "view-in-github",
        "colab_type": "text"
      },
      "source": [
        "<a href=\"https://colab.research.google.com/github/anu-mohan/Ds_pythoncode/blob/main/Association_Rules.ipynb\" target=\"_parent\"><img src=\"https://colab.research.google.com/assets/colab-badge.svg\" alt=\"Open In Colab\"/></a>"
      ]
    },
    {
      "cell_type": "markdown",
      "metadata": {
        "id": "y6oFVgAwQ6Z5"
      },
      "source": [
        "# Import libraries "
      ]
    },
    {
      "cell_type": "code",
      "metadata": {
        "id": "ftYGi09HQ6aC"
      },
      "source": [
        "import pandas as pd\n",
        "from mlxtend.frequent_patterns import apriori,association_rules\n",
        "from mlxtend.preprocessing import TransactionEncoder\n",
        "# conda install -c conda-forge mlxtend"
      ],
      "execution_count": null,
      "outputs": []
    },
    {
      "cell_type": "code",
      "metadata": {
        "id": "_7mpYAMqQ6aG"
      },
      "source": [
        "titanic = pd.read_csv(\"Titanic.csv\")\n",
        "titanic.head()"
      ],
      "execution_count": null,
      "outputs": []
    },
    {
      "cell_type": "markdown",
      "metadata": {
        "id": "7FWdOXgWQ6aJ"
      },
      "source": [
        "# Pre-Processing\n",
        "As the data is not in transaction formation \n",
        "We are using transaction Encoder"
      ]
    },
    {
      "cell_type": "code",
      "metadata": {
        "id": "wQFu4hCOQ6aL"
      },
      "source": [
        "df=pd.get_dummies(titanic)\n",
        "df.head()"
      ],
      "execution_count": null,
      "outputs": []
    },
    {
      "cell_type": "markdown",
      "metadata": {
        "id": "ntL_IGaWQ6aM"
      },
      "source": [
        "# Apriori Algorithm "
      ]
    },
    {
      "cell_type": "code",
      "metadata": {
        "id": "9t9PigxhQ6aO"
      },
      "source": [
        "frequent_itemsets = apriori(df, min_support=0.1, use_colnames=True)\n",
        "frequent_itemsets"
      ],
      "execution_count": null,
      "outputs": []
    },
    {
      "cell_type": "code",
      "metadata": {
        "id": "dda3OQbgQ6aP"
      },
      "source": [
        "rules = association_rules(frequent_itemsets, metric=\"lift\", min_threshold=0.7)\n",
        "rules"
      ],
      "execution_count": null,
      "outputs": []
    },
    {
      "cell_type": "markdown",
      "metadata": {
        "id": "6CJnq1GSQ6aR"
      },
      "source": [
        "#####  An leverage value of 0 indicates independence. Range will be [-1 1]\n",
        "A high conviction value means that the consequent is highly depending on the antecedent and range [0 inf]"
      ]
    },
    {
      "cell_type": "code",
      "metadata": {
        "id": "JHTZ5cxvQ6aS"
      },
      "source": [
        "rules.sort_values('lift',ascending = False)[0:20]"
      ],
      "execution_count": null,
      "outputs": []
    },
    {
      "cell_type": "code",
      "metadata": {
        "id": "mMLhth92Q6aU"
      },
      "source": [
        "rules[rules.lift>1]"
      ],
      "execution_count": null,
      "outputs": []
    },
    {
      "cell_type": "code",
      "metadata": {
        "id": "guSkVLndQ6aV"
      },
      "source": [
        ""
      ],
      "execution_count": null,
      "outputs": []
    }
  ]
}