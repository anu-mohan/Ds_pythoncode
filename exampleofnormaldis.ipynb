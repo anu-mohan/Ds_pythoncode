{
  "nbformat": 4,
  "nbformat_minor": 0,
  "metadata": {
    "colab": {
      "name": "exampleofnormaldis.ipynb",
      "provenance": [],
      "authorship_tag": "ABX9TyPSDmOaQu5DbOzCXt8b2jQJ",
      "include_colab_link": true
    },
    "kernelspec": {
      "name": "python3",
      "display_name": "Python 3"
    },
    "language_info": {
      "name": "python"
    }
  },
  "cells": [
    {
      "cell_type": "markdown",
      "metadata": {
        "id": "view-in-github",
        "colab_type": "text"
      },
      "source": [
        "<a href=\"https://colab.research.google.com/github/anu-mohan/Ds_pythoncode/blob/main/exampleofnormaldis.ipynb\" target=\"_parent\"><img src=\"https://colab.research.google.com/assets/colab-badge.svg\" alt=\"Open In Colab\"/></a>"
      ]
    },
    {
      "cell_type": "code",
      "metadata": {
        "id": "_krNPn-FUCzo"
      },
      "source": [
        "import pandas as pd\n",
        "import matplotlib.pyplot as plt\n",
        "import seaborn as sn \n",
        "from scipy import stats"
      ],
      "execution_count": 2,
      "outputs": []
    },
    {
      "cell_type": "code",
      "metadata": {
        "colab": {
          "base_uri": "https://localhost:8080/"
        },
        "id": "FBMYIoJzUciu",
        "outputId": "aefca4a9-d27a-4f82-d908-541c467e7484"
      },
      "source": [
        "stats.norm.cdf(70,60,10)          ##CALCULATED NORMAL DISTRIBUTION  P(X<70)"
      ],
      "execution_count": 3,
      "outputs": [
        {
          "output_type": "execute_result",
          "data": {
            "text/plain": [
              "0.8413447460685429"
            ]
          },
          "metadata": {
            "tags": []
          },
          "execution_count": 3
        }
      ]
    },
    {
      "cell_type": "code",
      "metadata": {
        "colab": {
          "base_uri": "https://localhost:8080/",
          "height": 352
        },
        "id": "rWZvuCx0VMW9",
        "outputId": "8ba71a88-2938-4523-a2d3-b5f481960cf0"
      },
      "source": [
        "plt.hist(stats.norm.cdf(70,60,10))"
      ],
      "execution_count": 8,
      "outputs": [
        {
          "output_type": "execute_result",
          "data": {
            "text/plain": [
              "(array([0., 0., 0., 0., 0., 1., 0., 0., 0., 0.]),\n",
              " array([0.34134475, 0.44134475, 0.54134475, 0.64134475, 0.74134475,\n",
              "        0.84134475, 0.94134475, 1.04134475, 1.14134475, 1.24134475,\n",
              "        1.34134475]),\n",
              " <a list of 10 Patch objects>)"
            ]
          },
          "metadata": {
            "tags": []
          },
          "execution_count": 8
        },
        {
          "output_type": "display_data",
          "data": {
            "image/png": "[encoded data removed]",
            "text/plain": [
              "<Figure size 432x288 with 1 Axes>"
            ]
          },
          "metadata": {
            "tags": [],
            "needs_background": "light"
          }
        }
      ]
    },
    {
      "cell_type": "code",
      "metadata": {
        "colab": {
          "base_uri": "https://localhost:8080/"
        },
        "id": "uEuec5yCVlIE",
        "outputId": "8040bdb9-2c95-4644-efa2-bfd19ef1b153"
      },
      "source": [
        "stats.norm.cdf(680,711,29)     ##CALCULATED NORMAL DISTRIBUTION"
      ],
      "execution_count": 9,
      "outputs": [
        {
          "output_type": "execute_result",
          "data": {
            "text/plain": [
              "0.14254260383881612"
            ]
          },
          "metadata": {
            "tags": []
          },
          "execution_count": 9
        }
      ]
    },
    {
      "cell_type": "code",
      "metadata": {
        "colab": {
          "base_uri": "https://localhost:8080/",
          "height": 352
        },
        "id": "eNRb4qJ-WSYW",
        "outputId": "b34b92ac-23a9-41b5-8caa-3188d4790f99"
      },
      "source": [
        "plt.hist(stats.norm.cdf(680,711,29))"
      ],
      "execution_count": 10,
      "outputs": [
        {
          "output_type": "execute_result",
          "data": {
            "text/plain": [
              "(array([0., 0., 0., 0., 0., 1., 0., 0., 0., 0.]),\n",
              " array([-0.3574574, -0.2574574, -0.1574574, -0.0574574,  0.0425426,\n",
              "         0.1425426,  0.2425426,  0.3425426,  0.4425426,  0.5425426,\n",
              "         0.6425426]),\n",
              " <a list of 10 Patch objects>)"
            ]
          },
          "metadata": {
            "tags": []
          },
          "execution_count": 10
        },
        {
          "output_type": "display_data",
          "data": {
            "image/png": "[encoded data removed]",
            "text/plain": [
              "<Figure size 432x288 with 1 Axes>"
            ]
          },
          "metadata": {
            "tags": [],
            "needs_background": "light"
          }
        }
      ]
    },
    {
      "cell_type": "code",
      "metadata": {
        "colab": {
          "base_uri": "https://localhost:8080/"
        },
        "id": "aciDyC9EWn99",
        "outputId": "cae17691-91aa-4e54-8d1b-548fcf9dd512"
      },
      "source": [
        "1-stats.norm.cdf(680,711,29)"
      ],
      "execution_count": 11,
      "outputs": [
        {
          "output_type": "execute_result",
          "data": {
            "text/plain": [
              "0.8574573961611839"
            ]
          },
          "metadata": {
            "tags": []
          },
          "execution_count": 11
        }
      ]
    },
    {
      "cell_type": "code",
      "metadata": {
        "colab": {
          "base_uri": "https://localhost:8080/"
        },
        "id": "J0hGyQyiYPxQ",
        "outputId": "7772470f-3525-418c-b889-a4b9dfe61de2"
      },
      "source": [
        "1-stats.norm.cdf(70,60,10)"
      ],
      "execution_count": 12,
      "outputs": [
        {
          "output_type": "execute_result",
          "data": {
            "text/plain": [
              "0.15865525393145707"
            ]
          },
          "metadata": {
            "tags": []
          },
          "execution_count": 12
        }
      ]
    },
    {
      "cell_type": "code",
      "metadata": {
        "id": "GaeYHxfkYpG4"
      },
      "source": [
        "Z=(680-711)/29"
      ],
      "execution_count": 7,
      "outputs": []
    },
    {
      "cell_type": "code",
      "metadata": {
        "colab": {
          "base_uri": "https://localhost:8080/"
        },
        "id": "6rF1Dr7LZBte",
        "outputId": "74b954bd-413b-4b7b-8eca-7bd29c6433f2"
      },
      "source": [
        "Z"
      ],
      "execution_count": 8,
      "outputs": [
        {
          "output_type": "execute_result",
          "data": {
            "text/plain": [
              "-1.0689655172413792"
            ]
          },
          "metadata": {
            "tags": []
          },
          "execution_count": 8
        }
      ]
    },
    {
      "cell_type": "code",
      "metadata": {
        "colab": {
          "base_uri": "https://localhost:8080/"
        },
        "id": "hxr-XDUCZLYD",
        "outputId": "35d6f5ce-e914-4f97-bd0a-cb2787ba243b"
      },
      "source": [
        "stats.norm.cdf(750,500,250)    #right side value"
      ],
      "execution_count": 11,
      "outputs": [
        {
          "output_type": "execute_result",
          "data": {
            "text/plain": [
              "0.8413447460685429"
            ]
          },
          "metadata": {
            "tags": []
          },
          "execution_count": 11
        }
      ]
    },
    {
      "cell_type": "markdown",
      "metadata": {
        "id": "9H0KwVAvogz0"
      },
      "source": [
        "1- is used when there is any greater the X condition validate "
      ]
    },
    {
      "cell_type": "code",
      "metadata": {
        "colab": {
          "base_uri": "https://localhost:8080/"
        },
        "id": "dxCpAMABcGeI",
        "outputId": "94bf6769-37cc-4fcd-9a90-2751d6387c88"
      },
      "source": [
        "1-stats.norm.cdf(750,500,250)   ##to calculate the life side value means greater then value of P(X>750) "
      ],
      "execution_count": 13,
      "outputs": [
        {
          "output_type": "execute_result",
          "data": {
            "text/plain": [
              "0.15865525393145707"
            ]
          },
          "metadata": {
            "tags": []
          },
          "execution_count": 13
        }
      ]
    },
    {
      "cell_type": "markdown",
      "metadata": {
        "id": "PqlbeScLnwT1"
      },
      "source": [
        "P(697<X<740) Calculate the probability"
      ]
    },
    {
      "cell_type": "code",
      "metadata": {
        "colab": {
          "base_uri": "https://localhost:8080/"
        },
        "id": "cV9rdphgiKH-",
        "outputId": "7db8a68d-d6d4-4e78-b1d2-282d921d7e48"
      },
      "source": [
        "stats.norm.cdf(697,711,29)   ## P(697<X)"
      ],
      "execution_count": 14,
      "outputs": [
        {
          "output_type": "execute_result",
          "data": {
            "text/plain": [
              "0.31463356742704107"
            ]
          },
          "metadata": {
            "tags": []
          },
          "execution_count": 14
        }
      ]
    },
    {
      "cell_type": "code",
      "metadata": {
        "colab": {
          "base_uri": "https://localhost:8080/"
        },
        "id": "qyyuzpGGiXTG",
        "outputId": "3b70deec-2a0c-4070-ff88-87efb88e7cbe"
      },
      "source": [
        "stats.norm.cdf(740,711,29)    ##P(X<740)"
      ],
      "execution_count": 21,
      "outputs": [
        {
          "output_type": "execute_result",
          "data": {
            "text/plain": [
              "0.8413447460685429"
            ]
          },
          "metadata": {
            "tags": []
          },
          "execution_count": 21
        }
      ]
    },
    {
      "cell_type": "code",
      "metadata": {
        "colab": {
          "base_uri": "https://localhost:8080/"
        },
        "id": "1yQJCO0Qifaj",
        "outputId": "fb22983e-36fe-4a18-c730-9738a236ab42"
      },
      "source": [
        "(0.841-0.314)       ## P(697<X<740)"
      ],
      "execution_count": 27,
      "outputs": [
        {
          "output_type": "execute_result",
          "data": {
            "text/plain": [
              "0.5269999999999999"
            ]
          },
          "metadata": {
            "tags": []
          },
          "execution_count": 27
        }
      ]
    }
  ]
}