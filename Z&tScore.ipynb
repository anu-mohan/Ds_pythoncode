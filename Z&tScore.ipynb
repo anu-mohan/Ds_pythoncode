{
  "nbformat": 4,
  "nbformat_minor": 0,
  "metadata": {
    "colab": {
      "name": "Z&tScore.ipynb",
      "provenance": [],
      "authorship_tag": "ABX9TyMPtNfQ/fdpC2Rbe8e1WC+v",
      "include_colab_link": true
    },
    "kernelspec": {
      "name": "python3",
      "display_name": "Python 3"
    },
    "language_info": {
      "name": "python"
    }
  },
  "cells": [
    {
      "cell_type": "markdown",
      "metadata": {
        "id": "view-in-github",
        "colab_type": "text"
      },
      "source": [
        "<a href=\"https://colab.research.google.com/github/anu-mohan/Ds_pythoncode/blob/main/Z%26tScore.ipynb\" target=\"_parent\"><img src=\"https://colab.research.google.com/assets/colab-badge.svg\" alt=\"Open In Colab\"/></a>"
      ]
    },
    {
      "cell_type": "code",
      "metadata": {
        "id": "nd_TpSdz6Rcv"
      },
      "source": [
        "import pandas as pd\n",
        "from scipy import stats\n",
        "import numpy as np"
      ],
      "execution_count": 15,
      "outputs": []
    },
    {
      "cell_type": "code",
      "metadata": {
        "colab": {
          "base_uri": "https://localhost:8080/"
        },
        "id": "ZGRIQvYu67S7",
        "outputId": "92ceff26-111a-4dae-bc28-f41cba0134d5"
      },
      "source": [
        "stats.norm.ppf(.975)    ##from Z score for 95%"
      ],
      "execution_count": 14,
      "outputs": [
        {
          "output_type": "execute_result",
          "data": {
            "text/plain": [
              "1.959963984540054"
            ]
          },
          "metadata": {
            "tags": []
          },
          "execution_count": 14
        }
      ]
    },
    {
      "cell_type": "code",
      "metadata": {
        "colab": {
          "base_uri": "https://localhost:8080/"
        },
        "id": "cYyfGBUC9Cdx",
        "outputId": "ecb13e11-f84a-4ca3-98ec-315d2a7c9bd0"
      },
      "source": [
        "stats.t.ppf(0.975,139)   ### from T distribution "
      ],
      "execution_count": 3,
      "outputs": [
        {
          "output_type": "execute_result",
          "data": {
            "text/plain": [
              "1.977177724476122"
            ]
          },
          "metadata": {
            "tags": []
          },
          "execution_count": 3
        }
      ]
    },
    {
      "cell_type": "code",
      "metadata": {
        "id": "lNX6TCnGDcPb"
      },
      "source": [
        "glaxo_df=pd.read_csv('glaxo_df.csv')"
      ],
      "execution_count": 5,
      "outputs": []
    },
    {
      "cell_type": "code",
      "metadata": {
        "colab": {
          "base_uri": "https://localhost:8080/"
        },
        "id": "TNng6_1sDgEG",
        "outputId": "948aa0c0-1bc7-45b5-99c7-abfedc4d812f"
      },
      "source": [
        "glaxo_df_ci = stats.norm.interval(0.95,\n",
        "loc = glaxo_df.gain.mean(),\n",
        "scale = glaxo_df.gain.std())\n",
        "print( 'Gain at 95% confidence interval is:', np.round(glaxo_df_ci, 4))"
      ],
      "execution_count": 6,
      "outputs": [
        {
          "output_type": "stream",
          "text": [
            "Gain at 95% confidence interval is: [-0.0258  0.0266]\n"
          ],
          "name": "stdout"
        }
      ]
    },
    {
      "cell_type": "code",
      "metadata": {
        "id": "bVaTy3gOK4J5"
      },
      "source": [
        "stats.norm.ppf(1900 ,loc=1.98 ,scale=239.46)"
      ],
      "execution_count": null,
      "outputs": []
    },
    {
      "cell_type": "code",
      "metadata": {
        "colab": {
          "base_uri": "https://localhost:8080/"
        },
        "id": "yYlDtsevNwcz",
        "outputId": "5e104d5d-f04d-4653-de0f-2eba85609fb7"
      },
      "source": [
        "stats.norm.ppf(1900, loc=1.98, scale=2833/np.sqrt(140))"
      ],
      "execution_count": 21,
      "outputs": [
        {
          "output_type": "execute_result",
          "data": {
            "text/plain": [
              "nan"
            ]
          },
          "metadata": {
            "tags": []
          },
          "execution_count": 21
        }
      ]
    }
  ]
}